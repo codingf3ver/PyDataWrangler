{
 "cells": [
  {
   "cell_type": "markdown",
   "metadata": {},
   "source": [
    "<h1><center><b> PYTHON DATA STRUCTURE FOR PRACTICE </b></center></h1>\n",
    "<h2><b>Contents </b></h2>\n",
    "   <div class=\"alert alert-block alert-info\">  \n",
    "   <font><ol><li>Tuple</li>\n",
    "        <li>List </li>\n",
    "        <li>Dictionary  </li>\n",
    "        <li>Set </li>\n",
    "        <li>List Comprehension</li>\n",
    "        <li>Function</li>\n",
    "        <li>Namespaces,Scope and Local Functions</li>\n",
    "        <li>Function Objects</li>\n",
    "        <li>File System </li>\n",
    "        <li>Exception Handling </li>\n",
    "    </ol></font> </div>"
   ]
  },
  {
   "cell_type": "markdown",
   "metadata": {},
   "source": [
    "# 1.TUPLE \n",
    "<font><ul><li>A Tuple is immutable i.e something that cannot be changed or modified </li></ul></font>"
   ]
  },
  {
   "cell_type": "code",
   "execution_count": 1,
   "metadata": {},
   "outputs": [
    {
     "data": {
      "text/plain": [
       "[2, 3, 4, 56, 78]"
      ]
     },
     "execution_count": 1,
     "metadata": {},
     "output_type": "execute_result"
    }
   ],
   "source": [
    "li=[]\n",
    "tup=(2,3,4,56,78)\n",
    "for i in tup:\n",
    "    li.append(i)\n",
    "li    # converting to list"
   ]
  },
  {
   "cell_type": "code",
   "execution_count": 2,
   "metadata": {},
   "outputs": [
    {
     "data": {
      "text/plain": [
       "[4, 56, 78]"
      ]
     },
     "execution_count": 2,
     "metadata": {},
     "output_type": "execute_result"
    }
   ],
   "source": [
    "a,b,*rest=tup # assigning the variables a,b and *rest is used for rest\n",
    "\n",
    "rest"
   ]
  },
  {
   "cell_type": "code",
   "execution_count": 9,
   "metadata": {},
   "outputs": [
    {
     "data": {
      "text/plain": [
       "[2, 3, 4, 3, 5, 7, 24, 66, 87]"
      ]
     },
     "execution_count": 9,
     "metadata": {},
     "output_type": "execute_result"
    }
   ],
   "source": [
    "li_up=[]\n",
    "li=[(2,3,4),(3,5,7),(24,66,87)] # Unpacking the tuple\n",
    "for i in li:                   # Nested loop\n",
    "    for j in i:\n",
    "        li_up.append(j)    # Converting to the list        \n",
    "li_up        "
   ]
  },
  {
   "cell_type": "code",
   "execution_count": 10,
   "metadata": {},
   "outputs": [
    {
     "data": {
      "text/plain": [
       "2"
      ]
     },
     "execution_count": 10,
     "metadata": {},
     "output_type": "execute_result"
    }
   ],
   "source": [
    "tupl=(1,2,3,4,5,6,7,7,9,1) # Method for tuple\n",
    "tupl.count(1) # Counting the occurence of number"
   ]
  },
  {
   "cell_type": "code",
   "execution_count": 11,
   "metadata": {},
   "outputs": [
    {
     "data": {
      "text/plain": [
       "(1, 9, 7, 7, 6, 5, 4, 3, 2, 1)"
      ]
     },
     "execution_count": 11,
     "metadata": {},
     "output_type": "execute_result"
    }
   ],
   "source": [
    "tupl[::-1]  # Reversing the tuple"
   ]
  },
  {
   "cell_type": "code",
   "execution_count": 12,
   "metadata": {},
   "outputs": [
    {
     "data": {
      "text/plain": [
       "20"
      ]
     },
     "execution_count": 12,
     "metadata": {},
     "output_type": "execute_result"
    }
   ],
   "source": [
    "tuple = (\"red\", [111, 20, 4], (6, 15, 25))\n",
    "tuple[1][1]                           # Accesinng the value 20"
   ]
  },
  {
   "cell_type": "code",
   "execution_count": 13,
   "metadata": {},
   "outputs": [
    {
     "name": "stdout",
     "output_type": "stream",
     "text": [
      "red\n",
      "[111, 20, 4]\n",
      "(6, 15, 25)\n"
     ]
    }
   ],
   "source": [
    "for i in tuple:\n",
    "    print(i) # Unpacking the tuple"
   ]
  },
  {
   "cell_type": "code",
   "execution_count": 14,
   "metadata": {},
   "outputs": [
    {
     "name": "stdout",
     "output_type": "stream",
     "text": [
      "swapped value for tuple1: (99, 88) \n",
      "swapped value for tuple12: (11, 22)\n"
     ]
    }
   ],
   "source": [
    "tuple1 = (11, 22)\n",
    "tuple2 = (99, 88)            \n",
    "tuple1,tuple2=tuple2,tuple1 # swapping the tuple\n",
    "print(\"swapped value for tuple1:\",tuple1,\"\\nswapped value for tuple12:\",tuple2)\n"
   ]
  },
  {
   "cell_type": "code",
   "execution_count": 15,
   "metadata": {},
   "outputs": [
    {
     "data": {
      "text/plain": [
       "(22, 33)"
      ]
     },
     "execution_count": 15,
     "metadata": {},
     "output_type": "execute_result"
    }
   ],
   "source": [
    "tuple1 = (11, 22, 33, 44, 43, 23)\n",
    "tuple2=(tuple1[1],tuple1[2])  #Copying the tuple items\n",
    "tuple2"
   ]
  },
  {
   "cell_type": "code",
   "execution_count": 16,
   "metadata": {},
   "outputs": [
    {
     "data": {
      "text/plain": [
       "(11, [22, 34], 44, 55)"
      ]
     },
     "execution_count": 16,
     "metadata": {},
     "output_type": "execute_result"
    }
   ],
   "source": [
    "tuple1 = (11, [22, 33], 44, 55)\n",
    "tuple1[1][1]=34  # Modifying the list iten in a tuple\n",
    "tuple1"
   ]
  },
  {
   "cell_type": "markdown",
   "metadata": {},
   "source": [
    "# 2.List\n",
    "<font ><ul><li>Lists are variable-length and their contents can be modified in-place</li>\n",
    "       <li>It is mutable </li></ul> </font>"
   ]
  },
  {
   "cell_type": "code",
   "execution_count": 68,
   "metadata": {},
   "outputs": [],
   "source": [
    "list1=['apple','ball','cat','dog']\n",
    "list2=[11,22,32,43,45,65]"
   ]
  },
  {
   "cell_type": "code",
   "execution_count": 72,
   "metadata": {
    "scrolled": true
   },
   "outputs": [
    {
     "data": {
      "text/plain": [
       "[('apple', 11), ('ball', 22), ('cat', 32), ('dog', 43)]"
      ]
     },
     "execution_count": 72,
     "metadata": {},
     "output_type": "execute_result"
    }
   ],
   "source": [
    "zipped=zip(list1,list2) #Two list merge as a tuple\n",
    "list(zipped)"
   ]
  },
  {
   "cell_type": "code",
   "execution_count": 18,
   "metadata": {},
   "outputs": [
    {
     "data": {
      "text/plain": [
       "['apple', 'ball', 'cat', 'dog', 8]"
      ]
     },
     "execution_count": 18,
     "metadata": {},
     "output_type": "execute_result"
    }
   ],
   "source": [
    "list1.append(8) #Appending value in a list\n",
    "list1  "
   ]
  },
  {
   "cell_type": "code",
   "execution_count": 20,
   "metadata": {},
   "outputs": [
    {
     "data": {
      "text/plain": [
       "['apple', 'ball', 'cat', 'dog']"
      ]
     },
     "execution_count": 20,
     "metadata": {},
     "output_type": "execute_result"
    }
   ],
   "source": [
    "list1.pop(4) #Deleting a value from particular index\n",
    "list1"
   ]
  },
  {
   "cell_type": "code",
   "execution_count": 21,
   "metadata": {},
   "outputs": [
    {
     "data": {
      "text/plain": [
       "['ball', 'cat', 'dog']"
      ]
     },
     "execution_count": 21,
     "metadata": {},
     "output_type": "execute_result"
    }
   ],
   "source": [
    "list1.remove('apple')  #Deleting a value from the list\n",
    "list1"
   ]
  },
  {
   "cell_type": "code",
   "execution_count": 22,
   "metadata": {},
   "outputs": [
    {
     "data": {
      "text/plain": [
       "['apple', 'ball', 'cat', 'dog']"
      ]
     },
     "execution_count": 22,
     "metadata": {},
     "output_type": "execute_result"
    }
   ],
   "source": [
    "list1.insert(0,'apple') #Adding a value at particular index\n",
    "list1"
   ]
  },
  {
   "cell_type": "code",
   "execution_count": 23,
   "metadata": {},
   "outputs": [
    {
     "data": {
      "text/plain": [
       "['apple', 'ball', 'cat', 'dog', 11, 22, 32, 43, 45, 65]"
      ]
     },
     "execution_count": 23,
     "metadata": {},
     "output_type": "execute_result"
    }
   ],
   "source": [
    "list1.extend(list2) #Adding or merging two list at a time\n",
    "list1"
   ]
  },
  {
   "cell_type": "code",
   "execution_count": 24,
   "metadata": {},
   "outputs": [],
   "source": [
    "list1=list2"
   ]
  },
  {
   "cell_type": "code",
   "execution_count": 25,
   "metadata": {},
   "outputs": [
    {
     "data": {
      "text/plain": [
       "[11, 22, 32, 43, 45, 65]"
      ]
     },
     "execution_count": 25,
     "metadata": {},
     "output_type": "execute_result"
    }
   ],
   "source": [
    "list1"
   ]
  },
  {
   "cell_type": "code",
   "execution_count": 27,
   "metadata": {},
   "outputs": [
    {
     "name": "stdout",
     "output_type": "stream",
     "text": [
      "11\n",
      "32\n",
      "43\n",
      "45\n",
      "65\n"
     ]
    }
   ],
   "source": [
    "for i in list1:\n",
    "    if i==22:\n",
    "        continue #Skipping a particular item in list\n",
    "    print(i)"
   ]
  },
  {
   "cell_type": "code",
   "execution_count": 28,
   "metadata": {},
   "outputs": [
    {
     "name": "stdout",
     "output_type": "stream",
     "text": [
      "11\n",
      "22\n",
      "32\n",
      "43\n",
      "45\n",
      "65\n"
     ]
    }
   ],
   "source": [
    "for i in list2:\n",
    "    if i%2==0:\n",
    "        pass  #If you don't want to do any operation then we can use this keyword\n",
    "    print(i)"
   ]
  },
  {
   "cell_type": "code",
   "execution_count": 29,
   "metadata": {},
   "outputs": [
    {
     "name": "stdout",
     "output_type": "stream",
     "text": [
      "11\n",
      "22\n",
      "32\n",
      "43\n"
     ]
    }
   ],
   "source": [
    "for i in list2:\n",
    "    if i%3==0:\n",
    "        break  #Breaking the statement in looop\n",
    "    print(i)"
   ]
  },
  {
   "cell_type": "code",
   "execution_count": 99,
   "metadata": {
    "scrolled": true
   },
   "outputs": [
    {
     "name": "stdout",
     "output_type": "stream",
     "text": [
      "1 \n",
      "2 2 \n",
      "3 3 3 \n",
      "4 4 4 4 \n",
      "5 5 5 5 5 \n"
     ]
    }
   ],
   "source": [
    "#Pattern printing\n",
    "for i in range(1,6):\n",
    "    for j in range(i):   \n",
    "         print(i,end=\" \") #This will print numbers with a space terminating newline\n",
    "    print()          #This line of code will print a newline"
   ]
  },
  {
   "cell_type": "code",
   "execution_count": 108,
   "metadata": {},
   "outputs": [
    {
     "name": "stdout",
     "output_type": "stream",
     "text": [
      "5 4 3 2 1 \n",
      "4 3 2 1 \n",
      "3 2 1 \n",
      "2 1 \n",
      "1 \n"
     ]
    }
   ],
   "source": [
    "for i in range(1,6):\n",
    "    for j in range(6-i,0,-1):\n",
    "        print(j,end=\" \")\n",
    "    print()    "
   ]
  },
  {
   "cell_type": "code",
   "execution_count": 129,
   "metadata": {},
   "outputs": [
    {
     "name": "stdout",
     "output_type": "stream",
     "text": [
      "* \n",
      "* * \n",
      "* * * \n",
      "* * * * \n",
      "* * * * * \n",
      "* * * * * \n",
      "* * * * \n",
      "* * * \n",
      "* * \n",
      "* \n"
     ]
    }
   ],
   "source": [
    "for i in range(1,6):\n",
    "    for j in range(i):\n",
    "        print(\"*\",end=\" \")#This line will print first half of the pattern\n",
    "    print()    \n",
    "for k in range(5,0,-1):  #This one will rest\n",
    "    for l in range(k):\n",
    "        print(\"*\",end=\" \")\n",
    "    print()    "
   ]
  },
  {
   "cell_type": "code",
   "execution_count": 39,
   "metadata": {},
   "outputs": [
    {
     "name": "stdout",
     "output_type": "stream",
     "text": [
      "Enter the number for which you want to get the table of?2\n",
      "2  x  1 = 2\n",
      "2  x  2 = 4\n",
      "2  x  3 = 6\n",
      "2  x  4 = 8\n",
      "2  x  5 = 10\n",
      "2  x  6 = 12\n",
      "2  x  7 = 14\n",
      "2  x  8 = 16\n",
      "2  x  9 = 18\n",
      "2  x  10 = 20\n"
     ]
    }
   ],
   "source": [
    "n=int(input(\"Enter the number for which you want to get the table of?\"))\n",
    "for i in range(1,11):           #Printing any table \n",
    "    print(n,\" x \",i,\"=\",i*n)"
   ]
  },
  {
   "cell_type": "code",
   "execution_count": 52,
   "metadata": {},
   "outputs": [
    {
     "data": {
      "text/plain": [
       "[4, 8, 23, 55, 67, 98]"
      ]
     },
     "execution_count": 52,
     "metadata": {},
     "output_type": "execute_result"
    }
   ],
   "source": [
    "list_3=[98,23,4,55,67,8]\n",
    "list_3.sort()  #This one will sort the list without creating an object\n",
    "list_3 "
   ]
  },
  {
   "cell_type": "code",
   "execution_count": 50,
   "metadata": {},
   "outputs": [
    {
     "data": {
      "text/plain": [
       "[4, 8, 23, 55, 67, 98]"
      ]
     },
     "execution_count": 50,
     "metadata": {},
     "output_type": "execute_result"
    }
   ],
   "source": [
    "sorted(list_3) #This one will sort the list with new list\n",
    "list_3"
   ]
  },
  {
   "cell_type": "code",
   "execution_count": 57,
   "metadata": {},
   "outputs": [
    {
     "data": {
      "text/plain": [
       "[10, 9, 8, 7, 6, 5, 4, 3, 2, 1]"
      ]
     },
     "execution_count": 57,
     "metadata": {},
     "output_type": "execute_result"
    }
   ],
   "source": [
    "list(reversed(range(1,11))) #List reversed with reversed method"
   ]
  },
  {
   "cell_type": "code",
   "execution_count": 75,
   "metadata": {},
   "outputs": [
    {
     "data": {
      "text/plain": [
       "[5, 7, 9]"
      ]
     },
     "execution_count": 75,
     "metadata": {},
     "output_type": "execute_result"
    }
   ],
   "source": [
    "list3=[2,5,7,9,0,1,2,4] #Sliced list\n",
    "list3[1:4]  "
   ]
  },
  {
   "cell_type": "code",
   "execution_count": 76,
   "metadata": {},
   "outputs": [
    {
     "data": {
      "text/plain": [
       "[4, 2, 1, 0, 9, 7, 5, 2]"
      ]
     },
     "execution_count": 76,
     "metadata": {},
     "output_type": "execute_result"
    }
   ],
   "source": [
    "list3[::-1] #Sliced in reverse order"
   ]
  },
  {
   "cell_type": "code",
   "execution_count": 1,
   "metadata": {},
   "outputs": [
    {
     "data": {
      "text/plain": [
       "[23, 45, 63, 36]"
      ]
     },
     "execution_count": 1,
     "metadata": {},
     "output_type": "execute_result"
    }
   ],
   "source": [
    "import math\n",
    "raw_list=[23,float('NaN'),45,63,float('NaN'),36]\n",
    "refreshed_list=[]\n",
    "for i in raw_list:\n",
    "    if not math.isnan(i): #for checking 'not a number' in given list\n",
    "        refreshed_list.append(i)\n",
    "refreshed_list        \n",
    "        "
   ]
  },
  {
   "cell_type": "code",
   "execution_count": 10,
   "metadata": {},
   "outputs": [
    {
     "name": "stdin",
     "output_type": "stream",
     "text": [
      "Enter the range for getting array:  3\n",
      "list element at index 0 : 12\n",
      "list element at index 1 : 32\n",
      "list element at index 2 : 10\n"
     ]
    },
    {
     "name": "stdout",
     "output_type": "stream",
     "text": [
      "Array before sorting:  [12, 32, 10]\n",
      "Array after sorting:  [10, 12, 32]\n"
     ]
    }
   ],
   "source": [
    "#SELECTION SORT\n",
    "\n",
    "n=int(input(\"Enter the range for getting array: \"))\n",
    "li=[]\n",
    "for i in range(0,n):\n",
    "    li.append(int(input(\"list element at index {} :\".format(i)))) #Getting element in the list\n",
    "    if i==n:\n",
    "        break\n",
    "def selectionsort(li):\n",
    "    for i in range(len(li)):\n",
    "        minm=i                               #assuming minmimum at index 1\n",
    "        for j in range(i+1,len(li)):\n",
    "            if li[j]<li[minm]:              #checking whether index 1 is less than index 0 and doing so for the rest\n",
    "                minm=j\n",
    "                li[minm],li[i]=li[i],li[minm]  #swapping value in python\n",
    "    return li\n",
    "print(\"Array before sorting: \",li)\n",
    "selectionsort(li)\n",
    "print(\"Array after sorting: \",li)        "
   ]
  },
  {
   "cell_type": "code",
   "execution_count": 7,
   "metadata": {},
   "outputs": [
    {
     "name": "stdin",
     "output_type": "stream",
     "text": [
      "Enter the range for getting array:  3\n",
      "list element index 0 10\n",
      "list element index 1 12\n",
      "list element index 2 23\n",
      "Enter the number you want to search for ? 23\n"
     ]
    },
    {
     "name": "stdout",
     "output_type": "stream",
     "text": [
      "Number 23 found! at index 2\n"
     ]
    }
   ],
   "source": [
    "#LINEAR SEARCH\n",
    "\n",
    "n=int(input(\"Enter the range for getting array: \"))\n",
    "li=[]\n",
    "for i in range(0,n):\n",
    "    li.append(int(input(\"list element index {}\".format(i)))) #Getting element in the list\n",
    "    if i==n:\n",
    "        break\n",
    "num=int(input(\"Enter the number you want to search for ?\"))        \n",
    "for i in range(len(li)):\n",
    "    if li[i]==num:\n",
    "        print(\"Number {} found! at index {}\".format(num,i))\n",
    "        break\n",
    "    else:\n",
    "        continue\n",
    "        print(\"Number not found\")"
   ]
  },
  {
   "cell_type": "markdown",
   "metadata": {},
   "source": [
    "# 3.Dictionary\n",
    "\n",
    "<font color=black ><ul> <li>It is a small sized collection of key-value pairs, where key and value are Python objects </li>\n",
    "    <li>It is always inside the curly braces </li>\n",
    "    <li>A dict is essentially a collection of 2-tuples, the dict function accepts a list of 2-tuples </li></ul></font>"
   ]
  },
  {
   "cell_type": "code",
   "execution_count": 59,
   "metadata": {},
   "outputs": [
    {
     "data": {
      "text/plain": [
       "[1, 2, 35, 32, 4, 5]"
      ]
     },
     "execution_count": 59,
     "metadata": {},
     "output_type": "execute_result"
    }
   ],
   "source": [
    "dict_1={'key1':[1,2,35,32,4,5],'key2':'Tausif','key3':(2,32,4,6)}\n",
    "dict_1['key1'] #Accessing the keys"
   ]
  },
  {
   "cell_type": "code",
   "execution_count": 60,
   "metadata": {},
   "outputs": [
    {
     "data": {
      "text/plain": [
       "{'key1': [1, 2, 35, 32, 4, 5],\n",
       " 'key2': 'Tausif',\n",
       " 'key3': (2, 32, 4, 6),\n",
       " 'key4': 'Sachin'}"
      ]
     },
     "execution_count": 60,
     "metadata": {},
     "output_type": "execute_result"
    }
   ],
   "source": [
    "dict_1['key4']='Sachin' #Adding key in dictionary\n",
    "dict_1"
   ]
  },
  {
   "cell_type": "code",
   "execution_count": 61,
   "metadata": {},
   "outputs": [
    {
     "data": {
      "text/plain": [
       "{'key1': [1, 2, 35, 32, 4, 5], 'key2': 'Tausif', 'key3': (2, 32, 4, 6)}"
      ]
     },
     "execution_count": 61,
     "metadata": {},
     "output_type": "execute_result"
    }
   ],
   "source": [
    "del dict_1['key4'] #Deleting a value in dictionary\n",
    "dict_1"
   ]
  },
  {
   "cell_type": "code",
   "execution_count": 62,
   "metadata": {},
   "outputs": [
    {
     "data": {
      "text/plain": [
       "{'key1': [1, 2, 35, 32, 4, 5], 'key2': 'Tausif'}"
      ]
     },
     "execution_count": 62,
     "metadata": {},
     "output_type": "execute_result"
    }
   ],
   "source": [
    "dict_1.pop('key3') #Deleting a value in dictionary using pop method\n",
    "dict_1"
   ]
  },
  {
   "cell_type": "code",
   "execution_count": 63,
   "metadata": {},
   "outputs": [
    {
     "data": {
      "text/plain": [
       "dict_keys(['key1', 'key2'])"
      ]
     },
     "execution_count": 63,
     "metadata": {},
     "output_type": "execute_result"
    }
   ],
   "source": [
    "dict_1.keys() #Accessing keys "
   ]
  },
  {
   "cell_type": "code",
   "execution_count": 64,
   "metadata": {},
   "outputs": [
    {
     "data": {
      "text/plain": [
       "dict_values([[1, 2, 35, 32, 4, 5], 'Tausif'])"
      ]
     },
     "execution_count": 64,
     "metadata": {},
     "output_type": "execute_result"
    }
   ],
   "source": [
    "dict_1.values() #Accessing values"
   ]
  },
  {
   "cell_type": "code",
   "execution_count": 65,
   "metadata": {},
   "outputs": [
    {
     "data": {
      "text/plain": [
       "[[1, 2, 35, 32, 4, 5], 'Tausif']"
      ]
     },
     "execution_count": 65,
     "metadata": {},
     "output_type": "execute_result"
    }
   ],
   "source": [
    "list(dict_1.values()) #Accessing values as a list"
   ]
  },
  {
   "cell_type": "code",
   "execution_count": 66,
   "metadata": {},
   "outputs": [],
   "source": [
    "dict_2={'key3':'I am the best','key4':[2,43,55,65]}\n",
    "dict_1.update(dict_2)  #Merging two dictionary at a time"
   ]
  },
  {
   "cell_type": "code",
   "execution_count": 67,
   "metadata": {},
   "outputs": [
    {
     "data": {
      "text/plain": [
       "{'key1': [1, 2, 35, 32, 4, 5],\n",
       " 'key2': 'Tausif',\n",
       " 'key3': 'I am the best',\n",
       " 'key4': [2, 43, 55, 65]}"
      ]
     },
     "execution_count": 67,
     "metadata": {},
     "output_type": "execute_result"
    }
   ],
   "source": [
    "dict_1"
   ]
  },
  {
   "cell_type": "code",
   "execution_count": 77,
   "metadata": {},
   "outputs": [
    {
     "data": {
      "text/plain": [
       "{0: 5, 1: 4, 2: 3, 3: 2, 4: 1, 5: 0}"
      ]
     },
     "execution_count": 77,
     "metadata": {},
     "output_type": "execute_result"
    }
   ],
   "source": [
    "dict_3=dict(zip(range(6),reversed(range(6)))) #Dictionary is collection of two tuple and we know that zip() accepts two tuples\n",
    "dict_3"
   ]
  },
  {
   "cell_type": "code",
   "execution_count": 78,
   "metadata": {},
   "outputs": [
    {
     "data": {
      "text/plain": [
       "{'A': 10, 'B': 12, 'C': 43, 'D': 44}"
      ]
     },
     "execution_count": 78,
     "metadata": {},
     "output_type": "execute_result"
    }
   ],
   "source": [
    "list_d1=['A','B','C','D']               #Declaring list 1\n",
    "list_d2=[10,12,43,44]                   #Declaring list 2\n",
    "dict_3={}                               #Creating dictionary\n",
    "for key,values in zip(list_d1,list_d2):  #Zipping value as range in for loop for dictionary\n",
    "    dict_3[key]=values                   #Assigning value in dictionary\n",
    "dict_3                                  #Printing the value of dictionary"
   ]
  },
  {
   "cell_type": "code",
   "execution_count": 10,
   "metadata": {},
   "outputs": [
    {
     "name": "stdout",
     "output_type": "stream",
     "text": [
      "{'k1': 'a', 'k2': 'b', 'k3': 'c', 'k4': 'd', 'k5': 'e', 'k6': 'f'}\n"
     ]
    }
   ],
   "source": [
    "d1={'k1':'a','k2':'b'}  #Merging multiple dictionaries in one\n",
    "d2={'k3':'c','k4':'d'}\n",
    "d3={'k5':'e','k6':'f'}\n",
    "d4={}\n",
    "for d in (d1,d2,d3):\n",
    "    d4.update(d) #using for loop to update so as it will faster your merging process  \n",
    "print(d4)"
   ]
  },
  {
   "cell_type": "code",
   "execution_count": 87,
   "metadata": {},
   "outputs": [
    {
     "data": {
      "text/plain": [
       "defaultdict(list,\n",
       "            {'a': ['apple'],\n",
       "             'b': ['ball'],\n",
       "             'c': ['cat'],\n",
       "             'd': ['dog'],\n",
       "             'e': ['egg']})"
      ]
     },
     "execution_count": 87,
     "metadata": {},
     "output_type": "execute_result"
    }
   ],
   "source": [
    "word = ['apple', 'ball', 'cat', 'dog', 'egg']                          \n",
    "from collections import defaultdict \n",
    "init_ltr = defaultdict(list)      #This built-in method will fill the missinng value\n",
    "for w in words:\n",
    "    init_ltr[w[0]].append(w)  #If the dictionary has been missing with key-value then by default we can assign\n",
    "init_ltr    "
   ]
  },
  {
   "cell_type": "code",
   "execution_count": 88,
   "metadata": {},
   "outputs": [
    {
     "data": {
      "text/plain": [
       "-1684544854700860082"
      ]
     },
     "execution_count": 88,
     "metadata": {},
     "output_type": "execute_result"
    }
   ],
   "source": [
    "#Key value of dictionary shoud always be immutable like,string,tuple,int but not list\n",
    "hash(\"sxbscdwc\")  #This method will validate whether a dictionary key is valid or not"
   ]
  },
  {
   "cell_type": "markdown",
   "metadata": {},
   "source": [
    "# 4.SET\n",
    "<font color=black >\n",
    "<ul> <li>A set is an unordered collection of a unique element </li>\n",
    "     <li>It is also put inside the curly braces like dictionary </li>\n",
    "</ul> </font>    \n",
    "            "
   ]
  },
  {
   "cell_type": "code",
   "execution_count": 95,
   "metadata": {},
   "outputs": [
    {
     "data": {
      "text/plain": [
       "{1, 2, 3, 4, 5, 6, 7, 8}"
      ]
     },
     "execution_count": 95,
     "metadata": {},
     "output_type": "execute_result"
    }
   ],
   "source": [
    "a={1,2,3,4,5,7}\n",
    "b={4,5,6,7,7,8}\n",
    "a.union(b)   #This will produce entire element without duplicate"
   ]
  },
  {
   "cell_type": "code",
   "execution_count": 96,
   "metadata": {},
   "outputs": [
    {
     "data": {
      "text/plain": [
       "{4, 5, 7}"
      ]
     },
     "execution_count": 96,
     "metadata": {},
     "output_type": "execute_result"
    }
   ],
   "source": [
    "a.intersection(b)  #This will produce elements that matched in both set"
   ]
  },
  {
   "cell_type": "code",
   "execution_count": null,
   "metadata": {},
   "outputs": [],
   "source": [
    "#Use these methods to find out results\n",
    "a.add(x)                         #Add element\n",
    "a.clear()                        #Clear all the element\n",
    "a.remove(x)                      #remove element x\n",
    "a.pop()                          #Pop arbitary element\n",
    "a.union(b)                       #create a set that have elements of two set\n",
    "a.update(b)                      #set the content of a to union of b\n",
    "a.intersection(b)                #Common in both\n",
    "a.intersection_update(b)\n",
    "a.difference(b) \n",
    "a.difference_update(b) \n",
    "a.symmetric_difference(b) \n",
    "a.symmetric_difference_update(b)\n",
    "a.issubset(b) \n",
    "a.issuperset(b) \n",
    "a.isdisjoint(b)"
   ]
  },
  {
   "cell_type": "markdown",
   "metadata": {},
   "source": [
    "# 5.List Comprehensions"
   ]
  },
  {
   "cell_type": "code",
   "execution_count": 117,
   "metadata": {},
   "outputs": [
    {
     "data": {
      "text/plain": [
       "['mannn', 'dddwddwd']"
      ]
     },
     "execution_count": 117,
     "metadata": {},
     "output_type": "execute_result"
    }
   ],
   "source": [
    "list_4=['abc','bcd','mannn','dddwddwd']\n",
    "lis_c=[x for x in list_4 if len(x)>3]  #String length greater than 3\n",
    "lis_c"
   ]
  },
  {
   "cell_type": "code",
   "execution_count": 120,
   "metadata": {},
   "outputs": [
    {
     "data": {
      "text/plain": [
       "[0, 2, 4, 6, 8]"
      ]
     },
     "execution_count": 120,
     "metadata": {},
     "output_type": "execute_result"
    }
   ],
   "source": [
    "lis_c2=[i for i in range(10) if i%2==0] #List element which is even numbers only\n",
    "lis_c2"
   ]
  },
  {
   "cell_type": "code",
   "execution_count": 124,
   "metadata": {},
   "outputs": [
    {
     "data": {
      "text/plain": [
       "[1, 2, 3, 3, 4, 5, 6, 7, 8, 0, 9, 8]"
      ]
     },
     "execution_count": 124,
     "metadata": {},
     "output_type": "execute_result"
    }
   ],
   "source": [
    "list_5=[(1,2,3),(3,4,5),(6,7,8),(0,9,8)]\n",
    "lis_c3=[j for i in list_5 for j in i] #Nested for loop in comprehension\n",
    "lis_c3"
   ]
  },
  {
   "cell_type": "code",
   "execution_count": 125,
   "metadata": {},
   "outputs": [
    {
     "data": {
      "text/plain": [
       "[0, 1, 2, 3, 3, 4, 5, 6, 7, 8, 8, 9]"
      ]
     },
     "execution_count": 125,
     "metadata": {},
     "output_type": "execute_result"
    }
   ],
   "source": [
    "sorted(lis_c3)"
   ]
  },
  {
   "cell_type": "markdown",
   "metadata": {},
   "source": [
    "# 6.Functions\n",
    "  <font color=black >\n",
    "<ul> <li>If you need or anticipating any code to repeat multiple times, instead of writing the same code for over again we can call the funtion</li> </ul></font>              "
   ]
  },
  {
   "cell_type": "code",
   "execution_count": 133,
   "metadata": {},
   "outputs": [
    {
     "data": {
      "text/plain": [
       "15"
      ]
     },
     "execution_count": 133,
     "metadata": {},
     "output_type": "execute_result"
    }
   ],
   "source": [
    "def add(a,b):       #Def keybword is used for defining a function \n",
    "    return a+b \n",
    "add(5,10)"
   ]
  },
  {
   "cell_type": "code",
   "execution_count": 8,
   "metadata": {},
   "outputs": [
    {
     "name": "stdout",
     "output_type": "stream",
     "text": [
      "Enter the number for getting factorial: 6\n",
      "Factorial of 6 is 720\n"
     ]
    }
   ],
   "source": [
    "#Factorial of a number\n",
    "\n",
    "n=int(input('Enter the number for getting factorial: '))\n",
    "def fact(n):\n",
    "    fact=1                   #Initializing factorial\n",
    "    for i in range(1,n+1):   #Giving greater than number bcoz we need to find upto that number\n",
    "        fact=fact*i          #Multiplying\n",
    "    return fact\n",
    "fact_obj=fact(n)             #Storing at an object\n",
    "print('Factorial of {} is {}'.format(n,fact_obj))   #Printing the values with format stringer"
   ]
  },
  {
   "cell_type": "markdown",
   "metadata": {},
   "source": [
    "## 7.Namespaces, Scope, and Local Functions"
   ]
  },
  {
   "cell_type": "code",
   "execution_count": 139,
   "metadata": {},
   "outputs": [
    {
     "data": {
      "text/plain": [
       "[]"
      ]
     },
     "execution_count": 139,
     "metadata": {},
     "output_type": "execute_result"
    }
   ],
   "source": [
    "def func():\n",
    "    global lis\n",
    "    lis=[]\n",
    "    for i in range(6):\n",
    "        lis.append(i)\n",
    "lis       "
   ]
  },
  {
   "cell_type": "markdown",
   "metadata": {},
   "source": [
    "# 8.Functions are objects"
   ]
  },
  {
   "cell_type": "code",
   "execution_count": 4,
   "metadata": {},
   "outputs": [
    {
     "data": {
      "text/plain": [
       "['Chapter 2.Data Structure.ipynb']"
      ]
     },
     "execution_count": 4,
     "metadata": {},
     "output_type": "execute_result"
    }
   ],
   "source": [
    "import glob\n",
    "glob.glob('*.ipynb')"
   ]
  },
  {
   "cell_type": "code",
   "execution_count": 11,
   "metadata": {},
   "outputs": [
    {
     "data": {
      "text/plain": [
       "'tausif'"
      ]
     },
     "execution_count": 11,
     "metadata": {},
     "output_type": "execute_result"
    }
   ],
   "source": [
    "import random as r\n",
    "taudata=['tausif','mahatab','jaadu']\n",
    "r.choice(taudata)"
   ]
  },
  {
   "cell_type": "code",
   "execution_count": 15,
   "metadata": {},
   "outputs": [
    {
     "data": {
      "text/plain": [
       "datetime.timedelta(days=27, seconds=46632, microseconds=328767)"
      ]
     },
     "execution_count": 15,
     "metadata": {},
     "output_type": "execute_result"
    }
   ],
   "source": [
    "from datetime import date\n",
    "now=date.today()\n",
    "now\n",
    "birth=date(1993,3,10)\n",
    "day=(now-birth)\n",
    "day"
   ]
  },
  {
   "cell_type": "markdown",
   "metadata": {},
   "source": [
    "## 9.FILE SYSTEM IN PYTHON"
   ]
  },
  {
   "cell_type": "code",
   "execution_count": 7,
   "metadata": {},
   "outputs": [
    {
     "data": {
      "text/plain": [
       "'/Users/quantum/Documents/Oreilly Python Data Wrangling/Chapter-2 Data Structure'"
      ]
     },
     "execution_count": 7,
     "metadata": {},
     "output_type": "execute_result"
    }
   ],
   "source": [
    "%pwd"
   ]
  },
  {
   "cell_type": "code",
   "execution_count": 8,
   "metadata": {},
   "outputs": [
    {
     "name": "stdout",
     "output_type": "stream",
     "text": [
      "Chapter 2.Data Structure.ipynb\n"
     ]
    }
   ],
   "source": [
    "%ls"
   ]
  },
  {
   "cell_type": "code",
   "execution_count": 9,
   "metadata": {},
   "outputs": [
    {
     "name": "stdout",
     "output_type": "stream",
     "text": [
      "Chapter 2.Data Structure.ipynb  Spindump.txt\n"
     ]
    }
   ],
   "source": [
    "%ls"
   ]
  },
  {
   "cell_type": "code",
   "execution_count": 20,
   "metadata": {},
   "outputs": [
    {
     "data": {
      "text/plain": [
       "'Tausif'"
      ]
     },
     "execution_count": 20,
     "metadata": {},
     "output_type": "execute_result"
    }
   ],
   "source": [
    "var='  Tausif'\n",
    "var.lstrip() #deleting whitespaces from left side rstip will do vice-versa"
   ]
  },
  {
   "cell_type": "code",
   "execution_count": 32,
   "metadata": {},
   "outputs": [
    {
     "name": "stdout",
     "output_type": "stream",
     "text": [
      "[]\n"
     ]
    }
   ],
   "source": [
    "file='Spindump.txt'\n",
    "with open(file) as f:\n",
    "    parag=[x for x in f]\n",
    "    print(parag)\n",
    "    "
   ]
  },
  {
   "cell_type": "code",
   "execution_count": 29,
   "metadata": {},
   "outputs": [],
   "source": [
    "file=open('Spindump.txt','w')\n",
    "file\n",
    "file.close()"
   ]
  },
  {
   "cell_type": "code",
   "execution_count": 28,
   "metadata": {},
   "outputs": [
    {
     "name": "stdout",
     "output_type": "stream",
     "text": [
      "Chapter 2.Data Structure.ipynb  Spindump.txt\n"
     ]
    }
   ],
   "source": [
    "%ls"
   ]
  },
  {
   "cell_type": "markdown",
   "metadata": {},
   "source": [
    "## 10.EXCEPTION HANDLING"
   ]
  },
  {
   "cell_type": "code",
   "execution_count": null,
   "metadata": {},
   "outputs": [],
   "source": []
  }
 ],
 "metadata": {
  "kernelspec": {
   "display_name": "Python 3",
   "language": "python",
   "name": "python3"
  },
  "language_info": {
   "codemirror_mode": {
    "name": "ipython",
    "version": 3
   },
   "file_extension": ".py",
   "mimetype": "text/x-python",
   "name": "python",
   "nbconvert_exporter": "python",
   "pygments_lexer": "ipython3",
   "version": "3.8.3"
  }
 },
 "nbformat": 4,
 "nbformat_minor": 4
}
