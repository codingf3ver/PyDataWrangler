{
 "cells": [
  {
   "cell_type": "markdown",
   "metadata": {},
   "source": [
    "## OBJECT ORIENTED PROGRAMMING PRACTICE"
   ]
  },
  {
   "cell_type": "code",
   "execution_count": 5,
   "metadata": {},
   "outputs": [
    {
     "name": "stdout",
     "output_type": "stream",
     "text": [
      "How are you buddy!\n",
      "Hi,This is my first oops practice <__main__.Car object at 0x7ff7204bb650>\n"
     ]
    }
   ],
   "source": [
    "class Car():\n",
    "    def __init__(self):\n",
    "        print(\"How are you buddy!\")\n",
    "obj=Car()\n",
    "print(\"Hi,This is my first oops practice\",obj)"
   ]
  },
  {
   "cell_type": "code",
   "execution_count": 46,
   "metadata": {},
   "outputs": [
    {
     "name": "stdout",
     "output_type": "stream",
     "text": [
      "How are you buddy!\n",
      "First example of method in a class\n"
     ]
    }
   ],
   "source": [
    "class Car():\n",
    "    def __init__(self):  #Initailizing\n",
    "        print(\"How are you buddy!\") \n",
    "    def func(self):\n",
    "        print(\"First example of method in a class\")\n",
    "obj=Car()                  #Creating an object of car class\n",
    "obj.func()           #Accessing  method through object creation       "
   ]
  },
  {
   "cell_type": "code",
   "execution_count": 40,
   "metadata": {},
   "outputs": [
    {
     "name": "stdout",
     "output_type": "stream",
     "text": [
      "My name is Md Tauisf and I am 25 years old\n"
     ]
    }
   ],
   "source": [
    "class person():\n",
    "    residence='Indian'\n",
    "    def __init__(self,name,age):\n",
    "            self.name=name   #self.behave is an attribute and behav is instatiated attribute\n",
    "            self.age=age\n",
    "    def func(self):\n",
    "        print('My name is {} and I am {} years old'.format(self.name,self.age))\n",
    "obj=person('Md Tauisf',25)\n",
    "obj.func()"
   ]
  },
  {
   "cell_type": "code",
   "execution_count": 32,
   "metadata": {},
   "outputs": [
    {
     "name": "stdout",
     "output_type": "stream",
     "text": [
      "parent class\n",
      "this is child class\n"
     ]
    }
   ],
   "source": [
    "class Vehicle():            #Inheritance example\n",
    "    def __init__(self):\n",
    "        print(\"parent class\")\n",
    "class car(Vehicle):         #Deriving child class\n",
    "    def __init__(self):\n",
    "        super().__init__()  #Calling init function of parent class with super()\n",
    "    def func(self):\n",
    "        print('this is child class')\n",
    "    \n",
    "obj_child=car()    \n",
    "obj_child.func()\n",
    "    "
   ]
  },
  {
   "cell_type": "code",
   "execution_count": 41,
   "metadata": {},
   "outputs": [
    {
     "name": "stdout",
     "output_type": "stream",
     "text": [
      "Selling Price: 900\n",
      "Selling Price: 900\n",
      "Selling Price: 1000\n"
     ]
    }
   ],
   "source": [
    "class Computer:         #Data encapsulation\n",
    "\n",
    "    def __init__(self):\n",
    "        self.__price = 900   #see trailling undersocre is for data encapsulation\n",
    "\n",
    "    def sell(self):\n",
    "        print(\"Selling Price: {}\".format(self.__price))\n",
    "\n",
    "    def setPrice(self, price):\n",
    "        self.__price = price\n",
    "\n",
    "c = Computer()\n",
    "c.sell()\n",
    "\n",
    "# change the price\n",
    "c.__price = 1000  #This will not update the price of computer because of  data encapsulation \n",
    "c.sell()\n",
    "\n",
    "# using setter function\n",
    "c.setPrice(1000)    #Calling from setter funcion will update the data\n",
    "c.sell()"
   ]
  },
  {
   "cell_type": "code",
   "execution_count": null,
   "metadata": {},
   "outputs": [],
   "source": []
  }
 ],
 "metadata": {
  "kernelspec": {
   "display_name": "Python 3",
   "language": "python",
   "name": "python3"
  },
  "language_info": {
   "codemirror_mode": {
    "name": "ipython",
    "version": 3
   },
   "file_extension": ".py",
   "mimetype": "text/x-python",
   "name": "python",
   "nbconvert_exporter": "python",
   "pygments_lexer": "ipython3",
   "version": "3.8.3"
  }
 },
 "nbformat": 4,
 "nbformat_minor": 4
}
