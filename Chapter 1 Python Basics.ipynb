{
 "cells": [
  {
   "cell_type": "markdown",
   "metadata": {},
   "source": [
    "    1.Function and object method calls        "
   ]
  },
  {
   "cell_type": "code",
   "execution_count": 5,
   "metadata": {},
   "outputs": [
    {
     "data": {
      "text/plain": [
       "11"
      ]
     },
     "execution_count": 5,
     "metadata": {},
     "output_type": "execute_result"
    }
   ],
   "source": [
    "a=5              # Variable assigned values\n",
    "b=6\n",
    "def basic():    # Defining a Function\n",
    "    return a+b # Returning a value\n",
    "basic()         # Function call without an argument"
   ]
  },
  {
   "cell_type": "code",
   "execution_count": 9,
   "metadata": {},
   "outputs": [
    {
     "data": {
      "text/plain": [
       "13"
      ]
     },
     "execution_count": 9,
     "metadata": {},
     "output_type": "execute_result"
    }
   ],
   "source": [
    "def basic(a,b): # a,b are arguments declared\n",
    "    return a+b\n",
    "basic(5,8)    # Function call with arguments"
   ]
  },
  {
   "cell_type": "code",
   "execution_count": 11,
   "metadata": {},
   "outputs": [
    {
     "name": "stdout",
     "output_type": "stream",
     "text": [
      "20\n",
      "None\n"
     ]
    }
   ],
   "source": [
    "def basic(a,b):\n",
    "    print(a*b)       # This line will print multiplication but doesn't return a value\n",
    "print(basic(4,5))    # This will print None value because basic() doesn't return any value"
   ]
  },
  {
   "cell_type": "code",
   "execution_count": 17,
   "metadata": {},
   "outputs": [
    {
     "name": "stdout",
     "output_type": "stream",
     "text": [
      "value of x= 4\n",
      "value of y= 2\n",
      "8\n"
     ]
    }
   ],
   "source": [
    "def multiply(x,y=0):       # Here y=0 is default value\n",
    "\tprint(\"value of x=\",x)\n",
    "\tprint(\"value of y=\",y)\n",
    "    \n",
    "\treturn x*y\n",
    "print(multiply(y=9,x=8)) # Changing the default value"
   ]
  },
  {
   "cell_type": "code",
   "execution_count": 21,
   "metadata": {},
   "outputs": [
    {
     "name": "stdout",
     "output_type": "stream",
     "text": [
      "15\n"
     ]
    }
   ],
   "source": [
    "def basic(*args):    # *args is variable number of arguments to a function\n",
    "    add=0\n",
    "    for i in args:\n",
    "        add=add+i   \n",
    "    print(add)      # It will give sum of all the variables\n",
    "basic(1,2,3,4,5)    "
   ]
  },
  {
   "cell_type": "code",
   "execution_count": 15,
   "metadata": {
    "scrolled": true
   },
   "outputs": [
    {
     "name": "stdout",
     "output_type": "stream",
     "text": [
      "Tausif\n",
      "Mahatab\n",
      "Sohail\n"
     ]
    }
   ],
   "source": [
    "def basic(*args):\n",
    "    \n",
    "    for i in args: # Iterating using for loop\n",
    "        print(i)\n",
    "        \n",
    "basic('Tausif','Mahatab','Sohail')        "
   ]
  },
  {
   "cell_type": "code",
   "execution_count": 27,
   "metadata": {},
   "outputs": [
    {
     "name": "stdout",
     "output_type": "stream",
     "text": [
      "Key is : First_Name and Arguments is : Md\n",
      "Key is : Second_Name and Arguments is : Tausif\n"
     ]
    }
   ],
   "source": [
    "def basic(**kwargs):                     # kwargs is basically used to passed dictionary as an argument\n",
    "    \n",
    "    for key,arg in kwargs.items():       # Unpacking the dictionary uding for loops and items methods\n",
    "        \n",
    "        print('Key is : {0} and Arguments is : {1}'.format(key,arg)) # .format() for printing string\n",
    "\n",
    "basic(First_Name='Md',Second_Name='Tausif') # Function calling with passing dictionary as an argument\n",
    "        "
   ]
  },
  {
   "cell_type": "markdown",
   "metadata": {},
   "source": [
    "    2.Variables and argument passing"
   ]
  },
  {
   "cell_type": "code",
   "execution_count": 28,
   "metadata": {},
   "outputs": [],
   "source": [
    "a=[3,4,5] # variable assigning\n",
    "a.append(6) # adding a value at the end of the list\n",
    "a"
   ]
  },
  {
   "cell_type": "code",
   "execution_count": 31,
   "metadata": {},
   "outputs": [
    {
     "data": {
      "text/plain": [
       "[1, 2, 3, 4, 5, 6]"
      ]
     },
     "execution_count": 31,
     "metadata": {},
     "output_type": "execute_result"
    }
   ],
   "source": [
    "some_list=[1,2,3,4,5]\n",
    "def var_arg(some_list,data):  # passing list as an argument\n",
    "    some_list.append(data)    # appending a data\n",
    "var_arg(some_list,6)          # calling with list \n",
    "some_list"
   ]
  },
  {
   "cell_type": "markdown",
   "metadata": {},
   "source": [
    "     3.Attributes and methods"
   ]
  },
  {
   "cell_type": "code",
   "execution_count": null,
   "metadata": {},
   "outputs": [],
   "source": [
    "a=[4,5,6,7,8]\n",
    "a.attrribute #  we can find plethora of information using the below attributes\n",
    "a.capitalize a.center a.count a.decode a.encode a.endswith a.expandtabs a.find\n",
    "a.format a.index a.isalnum a.isalpha a.isdigit a.islower a.isspace a.istitle\n",
    "a.isupper a.rindex a.join a.rjust a.ljust a.rpartition a.lower a.rsplit a.lstrip a.rstrip a.partition a.split a.replace a.splitlines a.rfind a.startswith\n",
    "a.strip a.swapcase a.title a.translate a.upper a.zfill"
   ]
  },
  {
   "cell_type": "markdown",
   "metadata": {},
   "source": [
    "    4.Imports \n",
    "    In Python a module is simply a file with the .py extension containing Python code."
   ]
  },
  {
   "cell_type": "code",
   "execution_count": null,
   "metadata": {},
   "outputs": [],
   "source": [
    "#file_name.py a file is saved which contains the following code\n",
    "\n",
    "def add(a,b):\n",
    "    return a+b\n",
    "def mul(a,b):\n",
    "    return a*b\n",
    "def div(a,b):\n",
    "    return a/b\n",
    "def sub(a,b):\n",
    "    return a-b"
   ]
  },
  {
   "cell_type": "code",
   "execution_count": null,
   "metadata": {},
   "outputs": [],
   "source": [
    "# we can access the above code by importing  module"
   ]
  },
  {
   "cell_type": "code",
   "execution_count": null,
   "metadata": {},
   "outputs": [],
   "source": [
    "import file_name\n",
    "addition=file_name.add(5,3)\n",
    "addition                          #Output=8\n",
    "multiplication=file_name.mul(6,7)\n",
    "multiplication                   #Output=42\n",
    "division=file_name.div(7,2)\n",
    "division                          #Output=3\n",
    "substraction=file_name.sub(10,6)\n",
    "substraction                       #Output=4\n"
   ]
  },
  {
   "cell_type": "code",
   "execution_count": null,
   "metadata": {},
   "outputs": [],
   "source": [
    "#we can also give alias to module using 'as' keyboard\n",
    "import file_name as fl\n",
    "#we can import particular method instead of entire\n",
    "from file_name import add\n",
    "calso we can particular method as \n",
    "import add.file_name as addfile\n"
   ]
  },
  {
   "cell_type": "markdown",
   "metadata": {},
   "source": [
    "      5.Binary operators and comparisons"
   ]
  },
  {
   "cell_type": "code",
   "execution_count": null,
   "metadata": {},
   "outputs": [],
   "source": [
    "Operation   Description\n",
    "a+b         addition\n",
    "a-b         Substraction\n",
    "a*b         Multiplication\n",
    "a/b         Division\n",
    "a // b      Floor Division to an Integer\n",
    "a ** b      Power\n",
    "a & b       AND True if both a and b are True\n",
    "a | b       OR  True if either a or b is True\n",
    "a^b         BOOLEAN TrueifaorbisTrue, but not both; for integers, take the bitwiseEXCLUSIVE-OR\n",
    "a == b      Equal to\n",
    "a != b      Not equal to\n",
    "a <= b      Less than and equal to\n",
    "a < b       Less than\n",
    "a > b       Greater than\n",
    "a >= b      Greater than and equal to\n"
   ]
  },
  {
   "cell_type": "markdown",
   "metadata": {},
   "source": [
    "    6.Mutable and immutable objects\n",
    "    mutable means that can be modified upon creation and immutable vice-versa"
   ]
  },
  {
   "cell_type": "code",
   "execution_count": 32,
   "metadata": {},
   "outputs": [
    {
     "data": {
      "text/plain": [
       "[1, 2, (3, 4)]"
      ]
     },
     "execution_count": 32,
     "metadata": {},
     "output_type": "execute_result"
    }
   ],
   "source": [
    "#lists, dicts, NumPy arrays, and most user-defined types (classes), are mutable\n",
    "list_ex=[1,2,(4,6)] #Original list\n",
    "list_ex[2]=(3,4)    #Modified List\n",
    "list_ex"
   ]
  },
  {
   "cell_type": "code",
   "execution_count": null,
   "metadata": {},
   "outputs": [],
   "source": [
    "# String and Tuples are immutable\n",
    "tup=(2,3,4,5,(6,7))\n",
    "tup[2]=7\n",
    "# It will produce an error \n",
    "# TypeError: 'tuple' object does not support item assignment\n",
    "\n"
   ]
  },
  {
   "cell_type": "markdown",
   "metadata": {},
   "source": [
    "      7.String,Bytes and Unicode,Type casting,None, Dates and Time"
   ]
  },
  {
   "cell_type": "code",
   "execution_count": 34,
   "metadata": {},
   "outputs": [
    {
     "data": {
      "text/plain": [
       "['t', 'a', 'u', 's', 'i', 'f']"
      ]
     },
     "execution_count": 34,
     "metadata": {},
     "output_type": "execute_result"
    }
   ],
   "source": [
    "string='tausif'\n",
    "str_list=list(string)  \n",
    "str_list               # string as a python"
   ]
  },
  {
   "cell_type": "code",
   "execution_count": 35,
   "metadata": {},
   "outputs": [
    {
     "data": {
      "text/plain": [
       "\"Doesn't\""
      ]
     },
     "execution_count": 35,
     "metadata": {},
     "output_type": "execute_result"
    }
   ],
   "source": [
    "string='Doesn\\'t'  # Put \\ for esacping the character\n",
    "string"
   ]
  },
  {
   "cell_type": "code",
   "execution_count": 39,
   "metadata": {},
   "outputs": [],
   "source": [
    "a=2\n",
    "b= '3'\n",
    "c=3\n",
    "atribute='This one {0:.2f} is float ,This one is {1:s} ,This one is {2:d} is exact integer'.format(a,b,c)\n",
    " # {0:.2f} means to format the first argument as a floating-point number with two decimal places.\n",
    "#  {1:s} means to format the second argument as a string.\n",
    "# {2:d} means to format the third argument as an exact integer.\n"
   ]
  },
  {
   "cell_type": "code",
   "execution_count": 41,
   "metadata": {},
   "outputs": [
    {
     "data": {
      "text/plain": [
       "b'tausifsxsx'"
      ]
     },
     "execution_count": 41,
     "metadata": {},
     "output_type": "execute_result"
    }
   ],
   "source": [
    "var='tausifsxsx'\n",
    "var_uni=var.encode('utf-8')\n",
    "var_uni"
   ]
  },
  {
   "cell_type": "code",
   "execution_count": 47,
   "metadata": {},
   "outputs": [
    {
     "data": {
      "text/plain": [
       "2"
      ]
     },
     "execution_count": 47,
     "metadata": {},
     "output_type": "execute_result"
    }
   ],
   "source": [
    "variable='2.44555'\n",
    "flo=float(variable) # Type casted to float from string\n",
    "flo\n",
    "integ=int(flo)  # Type casted to integer from string to float and float to integer\n",
    "integ"
   ]
  },
  {
   "cell_type": "code",
   "execution_count": 53,
   "metadata": {},
   "outputs": [
    {
     "data": {
      "text/plain": [
       "'This string is foir multiple line\\nyou can type as many as string you can\\nwefjlefjwefrfwrf lfwekfkwogvg3twfjr \\nthis is string '"
      ]
     },
     "execution_count": 53,
     "metadata": {},
     "output_type": "execute_result"
    }
   ],
   "source": [
    "str_multi=\"\"\"This string is foir multiple line\n",
    "you can type as many as string you can\n",
    "wefjlefjwefrfwrf lfwekfkwogvg3twfjr \n",
    "this is string \n",
    "\"\"\"\n",
    "str_multi"
   ]
  },
  {
   "cell_type": "code",
   "execution_count": 55,
   "metadata": {},
   "outputs": [
    {
     "data": {
      "text/plain": [
       "datetime.date(2020, 9, 7)"
      ]
     },
     "execution_count": 55,
     "metadata": {},
     "output_type": "execute_result"
    }
   ],
   "source": [
    "from datetime import datetime,date,time\n",
    "dat=datetime(2020,9,7)\n",
    "dat.date()\n"
   ]
  },
  {
   "cell_type": "markdown",
   "metadata": {},
   "source": [
    "       8.CONTROL FLOW(if,elif,else,for,while,range,continue,break,pass)"
   ]
  },
  {
   "cell_type": "code",
   "execution_count": null,
   "metadata": {},
   "outputs": [],
   "source": [
    "if x<0:\n",
    "    print('Negative')\n",
    "elif x==0:\n",
    "    print('Equal to')\n",
    "elif x>0 :  # or you can put else\n",
    "    print('Greater than')\n"
   ]
  },
  {
   "cell_type": "code",
   "execution_count": 58,
   "metadata": {},
   "outputs": [
    {
     "name": "stdout",
     "output_type": "stream",
     "text": [
      "2\n",
      "3\n",
      "4\n",
      "5\n",
      "(7, 5)\n"
     ]
    }
   ],
   "source": [
    "list_ex=[2,3,4,5,(7,5)]\n",
    "for i in list_ex:  # simple loop\n",
    "    print(i)"
   ]
  },
  {
   "cell_type": "code",
   "execution_count": 71,
   "metadata": {},
   "outputs": [
    {
     "name": "stdout",
     "output_type": "stream",
     "text": [
      "5\n",
      "\n",
      "* \n",
      "* * \n",
      "* * * \n",
      "* * * * \n"
     ]
    }
   ],
   "source": [
    "inp=int(input())\n",
    "for i in range(inp):     # nested for loop\n",
    "    for j in range(i): \n",
    "        print('*',end=\" \") \n",
    "    print()   \n"
   ]
  },
  {
   "cell_type": "code",
   "execution_count": 3,
   "metadata": {},
   "outputs": [
    {
     "data": {
      "text/plain": [
       "[10, 23, 4, 2, 45, 65, 1, 3, 4]"
      ]
     },
     "execution_count": 3,
     "metadata": {},
     "output_type": "execute_result"
    }
   ],
   "source": [
    "li=[]                 #list\n",
    "list_nest=[(10,23,4),(2,45,65),(1,3,4)]\n",
    "for i in list_nest:   # nested for loop\n",
    "    for j in i:   \n",
    "        li.append(j)  #This line will store tuple element as in list\n",
    "li                    #This will print list      "
   ]
  },
  {
   "cell_type": "code",
   "execution_count": 4,
   "metadata": {},
   "outputs": [
    {
     "name": "stdout",
     "output_type": "stream",
     "text": [
      "0\n",
      "(10, 23, 4)\n",
      "1\n",
      "(2, 45, 65)\n",
      "2\n",
      "(1, 3, 4)\n"
     ]
    }
   ],
   "source": [
    "list_nest=[(10,23,4),(2,45,65),(1,3,4)]\n",
    "for i in enumerate(list_nest): # Enumerate is basically used for print values with their index position as tuple\n",
    "    for j in i:\n",
    "        print(j)"
   ]
  },
  {
   "cell_type": "code",
   "execution_count": 6,
   "metadata": {},
   "outputs": [
    {
     "name": "stdout",
     "output_type": "stream",
     "text": [
      "(0, 10)\n",
      "(1, 23)\n",
      "(2, 4)\n",
      "(3, 2)\n",
      "(4, 45)\n",
      "(5, 65)\n",
      "(6, 1)\n",
      "(7, 3)\n",
      "(8, 4)\n"
     ]
    }
   ],
   "source": [
    "list_nest=[10,23,4,2,45,65,1,3,4]\n",
    "for i in enumerate(list_nest): # nested for loop\n",
    "    print(i)"
   ]
  },
  {
   "cell_type": "code",
   "execution_count": 15,
   "metadata": {},
   "outputs": [
    {
     "name": "stdout",
     "output_type": "stream",
     "text": [
      "[[10, 23, 4], [50, 45, 65], [1, 3, 4]]\n",
      "[[10, 23, 4], [50, 45, 65], [125, 3, 4]]\n",
      "[[10, 23, 4], [50, 45, 65], [125, 375, 4]]\n"
     ]
    }
   ],
   "source": [
    "list_nest=[[10,23,4],[2,45,65],[1,3,4]]\n",
    "mul=1\n",
    "for i in range(len(list_nest)): #Range functiom to get desired sequence\n",
    "    mul*=5\n",
    "    for j in range(i):\n",
    "        list_nest[i][j]*=mul\n",
    "        print(list_nest)\n"
   ]
  },
  {
   "cell_type": "code",
   "execution_count": null,
   "metadata": {},
   "outputs": [],
   "source": [
    "n=int(input())\n",
    "print(\"--------While Loop Numbers--------\")\n",
    "while n<10:      # While loop \n",
    "    if n==5:\n",
    "        continue  #Continue statement for skipping that step \n",
    "    print(n)\n",
    "    n+=1       #Steps that you wanted to get"
   ]
  },
  {
   "cell_type": "code",
   "execution_count": 1,
   "metadata": {},
   "outputs": [],
   "source": [
    "list_range=[range(10)]"
   ]
  },
  {
   "cell_type": "code",
   "execution_count": 2,
   "metadata": {},
   "outputs": [
    {
     "data": {
      "text/plain": [
       "[range(0, 10)]"
      ]
     },
     "execution_count": 2,
     "metadata": {},
     "output_type": "execute_result"
    }
   ],
   "source": [
    "list_range"
   ]
  },
  {
   "cell_type": "code",
   "execution_count": null,
   "metadata": {},
   "outputs": [],
   "source": []
  }
 ],
 "metadata": {
  "kernelspec": {
   "display_name": "Python 3",
   "language": "python",
   "name": "python3"
  },
  "language_info": {
   "codemirror_mode": {
    "name": "ipython",
    "version": 3
   },
   "file_extension": ".py",
   "mimetype": "text/x-python",
   "name": "python",
   "nbconvert_exporter": "python",
   "pygments_lexer": "ipython3",
   "version": "3.7.6"
  }
 },
 "nbformat": 4,
 "nbformat_minor": 4
}
